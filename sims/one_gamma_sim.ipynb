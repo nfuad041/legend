{
 "cells": [
  {
   "cell_type": "code",
   "execution_count": 1,
   "metadata": {},
   "outputs": [],
   "source": [
    "legend_utils_path = '/global/homes/f/fnafis/LEGEND/legend'\n",
    "import sys\n",
    "if legend_utils_path not in sys.path:\n",
    "    sys.path.append(legend_utils_path)\n",
    "import uproot as ur\n",
    "import numpy as np\n",
    "import matplotlib.pyplot as plt\n",
    "import pandas as pd\n",
    "from scipy.optimize import curve_fit\n",
    "import pygama.math.histogram as pgh\n",
    "import legend_utils as lu\n",
    "from matplotlib.ticker import AutoMinorLocator\n",
    "from matplotlib.ticker import FormatStrFormatter\n",
    "plt.style.use('~/KrSTC/data/physrev.mpl')"
   ]
  },
  {
   "cell_type": "code",
   "execution_count": 2,
   "metadata": {},
   "outputs": [
    {
     "name": "stdout",
     "output_type": "stream",
     "text": [
      "/global/homes/f/fnafis/56Co_SIS2_neg376mm_test_with_one_gamma_2_evt.root opened\n",
      "238691\n"
     ]
    },
    {
     "data": {
      "text/html": [
       "<div>\n",
       "<style scoped>\n",
       "    .dataframe tbody tr th:only-of-type {\n",
       "        vertical-align: middle;\n",
       "    }\n",
       "\n",
       "    .dataframe tbody tr th {\n",
       "        vertical-align: top;\n",
       "    }\n",
       "\n",
       "    .dataframe thead th {\n",
       "        text-align: right;\n",
       "    }\n",
       "</style>\n",
       "<table border=\"1\" class=\"dataframe\">\n",
       "  <thead>\n",
       "    <tr style=\"text-align: right;\">\n",
       "      <th></th>\n",
       "      <th>mage_id</th>\n",
       "      <th>energy</th>\n",
       "    </tr>\n",
       "  </thead>\n",
       "  <tbody>\n",
       "    <tr>\n",
       "      <th>0</th>\n",
       "      <td>1010207</td>\n",
       "      <td>171.655067</td>\n",
       "    </tr>\n",
       "    <tr>\n",
       "      <th>1</th>\n",
       "      <td>1010208</td>\n",
       "      <td>2715.253099</td>\n",
       "    </tr>\n",
       "    <tr>\n",
       "      <th>2</th>\n",
       "      <td>1010207</td>\n",
       "      <td>2668.628302</td>\n",
       "    </tr>\n",
       "    <tr>\n",
       "      <th>3</th>\n",
       "      <td>1010106</td>\n",
       "      <td>500.485400</td>\n",
       "    </tr>\n",
       "    <tr>\n",
       "      <th>4</th>\n",
       "      <td>1010908</td>\n",
       "      <td>393.994396</td>\n",
       "    </tr>\n",
       "    <tr>\n",
       "      <th>...</th>\n",
       "      <td>...</td>\n",
       "      <td>...</td>\n",
       "    </tr>\n",
       "    <tr>\n",
       "      <th>238686</th>\n",
       "      <td>1010912</td>\n",
       "      <td>1761.342257</td>\n",
       "    </tr>\n",
       "    <tr>\n",
       "      <th>238687</th>\n",
       "      <td>1010810</td>\n",
       "      <td>196.755944</td>\n",
       "    </tr>\n",
       "    <tr>\n",
       "      <th>238688</th>\n",
       "      <td>1010809</td>\n",
       "      <td>192.603869</td>\n",
       "    </tr>\n",
       "    <tr>\n",
       "      <th>238689</th>\n",
       "      <td>1011013</td>\n",
       "      <td>2546.698963</td>\n",
       "    </tr>\n",
       "    <tr>\n",
       "      <th>238690</th>\n",
       "      <td>1010208</td>\n",
       "      <td>389.274875</td>\n",
       "    </tr>\n",
       "  </tbody>\n",
       "</table>\n",
       "<p>238691 rows × 2 columns</p>\n",
       "</div>"
      ],
      "text/plain": [
       "        mage_id       energy\n",
       "0       1010207   171.655067\n",
       "1       1010208  2715.253099\n",
       "2       1010207  2668.628302\n",
       "3       1010106   500.485400\n",
       "4       1010908   393.994396\n",
       "...         ...          ...\n",
       "238686  1010912  1761.342257\n",
       "238687  1010810   196.755944\n",
       "238688  1010809   192.603869\n",
       "238689  1011013  2546.698963\n",
       "238690  1010208   389.274875\n",
       "\n",
       "[238691 rows x 2 columns]"
      ]
     },
     "execution_count": 2,
     "metadata": {},
     "output_type": "execute_result"
    }
   ],
   "source": [
    "evt_filenames_vancouver = '/global/homes/f/fnafis/LEGEND/legend/sims/evt_filenames_3.txt'\n",
    "df = pd.DataFrame()\n",
    "primaries = 0\n",
    "with open(evt_filenames_list) as f:\n",
    "    evt_filenames = f.read().splitlines()\n",
    "    for evt_filename in evt_filenames:\n",
    "        ff = ur.open(evt_filename)\n",
    "        print(evt_filename, 'opened')\n",
    "        dets = ff['simTree/mage_id'].array(library='np')\n",
    "        dets = np.concatenate(dets)\n",
    "        primaries += len(dets)\n",
    "        energies = ff['simTree/energy'].array(library='np')\n",
    "        energies = np.concatenate(energies)\n",
    "        d = pd.DataFrame({'mage_id': dets, 'energy': energies})\n",
    "        df = pd.concat([df, d], ignore_index=True)\n",
    "   \n",
    "print(primaries)\n",
    "df['energy'] = df['energy'].apply(lambda x: x*1000)\n",
    "df"
   ]
  },
  {
   "cell_type": "code",
   "execution_count": 6,
   "metadata": {},
   "outputs": [
    {
     "name": "stdout",
     "output_type": "stream",
     "text": [
      "732\n"
     ]
    },
    {
     "data": {
      "image/png": "[encoded data removed]",
      "text/plain": [
       "<Figure size 800x500 with 1 Axes>"
      ]
     },
     "metadata": {},
     "output_type": "display_data"
    }
   ],
   "source": [
    "hv, bv, vv = pgh.get_hist(df['energy'], range=(1950, 2050), dx=0.5)\n",
    "pgh.plot_hist(hv, bv, lw=1)\n",
    "# get sum of hv where 1960<bv<1975\n",
    "left_bkg = np.sum(hv[np.where((bv>1960) & (bv<1975))])\n",
    "right_bkg = np.sum(hv[np.where((bv>2000) & (bv<2015))])\n",
    "bkg = left_bkg + right_bkg\n",
    "print(bkg)"
   ]
  },
  {
   "cell_type": "code",
   "execution_count": null,
   "metadata": {},
   "outputs": [],
   "source": [
    "survival_frac_unc = 0.03\n",
    "source_activity_Ci = 1 #uCi\n",
    "source_activity_Bq = source_activity_Ci*3.7e10 #Bq\n",
    "primaries = 100000\n",
    "\n"
   ]
  }
 ],
 "metadata": {
  "kernelspec": {
   "display_name": "legend-base",
   "language": "python",
   "name": "legend-base"
  },
  "language_info": {
   "codemirror_mode": {
    "name": "ipython",
    "version": 3
   },
   "file_extension": ".py",
   "mimetype": "text/x-python",
   "name": "python",
   "nbconvert_exporter": "python",
   "pygments_lexer": "ipython3",
   "version": "3.11.5"
  },
  "orig_nbformat": 4,
  "vscode": {
   "interpreter": {
    "hash": "31f2aee4e71d21fbe5cf8b01ff0e069b9275f58929596ceb00d14d90e3e16cd6"
   }
  }
 },
 "nbformat": 4,
 "nbformat_minor": 2
}
